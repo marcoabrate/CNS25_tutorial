{
 "cells": [
  {
   "cell_type": "markdown",
   "id": "613c077f",
   "metadata": {},
   "source": [
    "\n",
    "---\n",
    "\n",
    "## Modelling hippocampal neurons of animals navigating in VR with Recurrent Neural Networks\n",
    "\n",
    "##### *Tutorial, COS 2025*\n",
    "### *Part 3: Training an RNN*\n",
    "##### made by: Daniel Liu, Marco Abrate, UCL\n",
    "---\n",
    "In this notebook, we will write code to train the **RNN**. \n",
    "\n",
    "Recurrent Neural Networks (RNNs) are neural models designed to process sequential data by retaining memory over time. Specifically in this tutorial, we train an RNN to perform a **next-step prediction task**.\n",
    "\n",
    "What is next-step prediction and why?\n",
    "\n",
    "\n",
    "\n",
    "Prerequisites:\n",
    "\n",
    "* Completed Notebook 1\n",
    "\n",
    "Before starting this notebook, make sure you have:\n",
    "\n",
    "* All frames, processed into embeddings in ```.npy``` file, from the Autoencoder we trained in the last tutorial.\n",
    "\n",
    "* Trajectory file, including speed and rotational velocity at each discritised time step.\n",
    "\n",
    "* The accompanying `utils.py` helper functions.\n",
    "\n",
    "* If you run this locally, you will need a CUDA- or MKL- enabled PyTorch version, and a GPU (or an Apple M-series chip)."
   ]
  },
  {
   "cell_type": "code",
   "execution_count": null,
   "id": "14611fad",
   "metadata": {},
   "outputs": [],
   "source": [
    "# imports\n",
    "import torch\n",
    "import torch.nn as nn\n",
    "import numpy as np\n",
    "import matplotlib.pyplot as plt\n",
    "from utils import *\n",
    "from PIL import Image\n",
    "import pathlib\n",
    "import itertools\n",
    "from sklearn.model_selection import train_test_split\n",
    "\n",
    "# install any packages used in the utils.py function here\n",
    "\n",
    "if torch.cuda.is_available():\n",
    "    device = torch.device(\"cuda\")\n",
    "elif torch.backends.mps.is_available():\n",
    "    device = torch.device(\"mps\")\n",
    "else:\n",
    "    device = torch.device(\"cpu\")\n",
    "    \n",
    "seed = 42"
   ]
  },
  {
   "cell_type": "code",
   "execution_count": null,
   "id": "d120d151",
   "metadata": {},
   "outputs": [],
   "source": [
    "# load the embeddings and trajectory data\n",
    "embeddings = None\n",
    "speed = None\n",
    "rot_vels = None"
   ]
  },
  {
   "cell_type": "code",
   "execution_count": null,
   "id": "0a6eb7d1",
   "metadata": {},
   "outputs": [],
   "source": [
    "def PathIntegrationRNN(nn.Module):\n",
    "    def __init__(self, input_dim, hidden_dim, output_dim):\n",
    "        super(PathIntegrationRNN, self).__init__()\n",
    "        self.rnn = nn.RNN(input_dim, hidden_dim, batch_first=True)\n",
    "        self.fc = nn.Linear(hidden_dim, output_dim)\n",
    "\n",
    "    def forward(self, x):\n",
    "        out, _ = self.rnn(x)\n",
    "        out = self.fc(out[:, -1, :])\n",
    "        return out"
   ]
  },
  {
   "cell_type": "code",
   "execution_count": null,
   "id": "7c7a46d9",
   "metadata": {},
   "outputs": [],
   "source": []
  }
 ],
 "metadata": {
  "language_info": {
   "name": "python"
  }
 },
 "nbformat": 4,
 "nbformat_minor": 5
}
