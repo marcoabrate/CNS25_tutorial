{
 "cells": [
  {
   "cell_type": "markdown",
   "id": "124450f7",
   "metadata": {},
   "source": [
    "\n",
    "---\n",
    "\n",
    "## Modelling hippocampal neurons of animals navigating in VR with Recurrent Neural Networks\n",
    "\n",
    "##### *Tutorial, COS 2025*\n",
    "### *Part 4: Extracting Neural Representations from an RNN*\n",
    "##### made by: Daniel Liu, Marco Abrate, UCL\n",
    "---\n",
    "In this notebook, we will write code to extract representations from the **RNN hidden states**. These includes:\n",
    "\n",
    "* Rate maps\n",
    "\n",
    "* Polar maps\n",
    "\n",
    "* Quantitative metrics\n",
    "\n",
    "* Comparison with _in vivo_ data\n",
    "\n",
    "\n",
    "Prerequisites:\n",
    "\n",
    "* Completed Notebook 2\n",
    "\n",
    "Before starting this notebook, make sure you have:\n",
    "\n",
    "* All frames, processed into embeddings in ```.npy``` file, from the Autoencoder we trained in the last tutorial.\n",
    "\n",
    "* Trajectory file, including speed and rotational velocity at each discritised time step.\n",
    "\n",
    "* The accompanying `utils.py` helper functions.\n"
   ]
  },
  {
   "cell_type": "markdown",
   "id": "aaed0034",
   "metadata": {},
   "source": []
  },
  {
   "cell_type": "code",
   "execution_count": null,
   "id": "ac87109e",
   "metadata": {},
   "outputs": [],
   "source": [
    "import marco\n",
    "\n",
    "marco.help_me()"
   ]
  }
 ],
 "metadata": {
  "language_info": {
   "name": "python"
  }
 },
 "nbformat": 4,
 "nbformat_minor": 5
}
