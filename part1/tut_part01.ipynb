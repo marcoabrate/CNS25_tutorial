{
 "cells": [
  {
   "cell_type": "markdown",
   "id": "ada77022",
   "metadata": {},
   "source": [
    "---\n",
    "# Modelling hippocampal neurons of animals <br> navigating in VR with recurrent neural networks\n",
    "### Marco P. Abrate, Daniel Liu &emsp;&emsp;&emsp;&emsp;&emsp;&emsp; University College London (UCL)\n",
    "---\n",
    "\n",
    "#### Outline\n",
    "**Part 1: Rat simulation in 3D**\n",
    "- Motion model with `RatInABox`\n",
    "\n",
    "- Environment design\n",
    "\n",
    "- Simulated rat vision with `ratvision`\n",
    "\n",
    "**Part 2: Vision autoencoder**\n",
    "\n",
    "**Part 3: Hippocampus model with RNN**\n",
    "\n",
    "**Part 4: Hidden state representations analysis**\n",
    "- Rate maps\n",
    "\n",
    "- Polar maps\n",
    "\n",
    "- Quantitive metrics\n",
    "\n",
    "- Applications"
   ]
  },
  {
   "cell_type": "markdown",
   "id": "c6d5ed6b",
   "metadata": {},
   "source": [
    "---\n",
    "## **Part 1: Rat simulation in 3D**\n",
    "\n",
    "In this notebook, we will write code to simulate a virtual rat (or agent) in a user-defined 3-dimensional environment. We will use the **RatInABox** [1] and **ratvision** Python packages and the open-source software Blender for this part.\n",
    "\n",
    "Before starting this notebook, make sure you have:\n",
    "- Blender (preferably v3.6) installed"
   ]
  },
  {
   "cell_type": "markdown",
   "id": "6f91880e",
   "metadata": {},
   "source": [
    "### 0. Install and import dependencies"
   ]
  },
  {
   "cell_type": "code",
   "execution_count": null,
   "id": "58612d4e",
   "metadata": {},
   "outputs": [],
   "source": [
    "!pip install ratinabox\n",
    "!pip install ratvision\n",
    "\n",
    "\n",
    "!pip install numpy\n",
    "!pip install matplotlib"
   ]
  },
  {
   "cell_type": "code",
   "execution_count": null,
   "id": "74f2f961",
   "metadata": {},
   "outputs": [],
   "source": [
    "import numpy as np"
   ]
  },
  {
   "cell_type": "markdown",
   "id": "b33d99b4",
   "metadata": {},
   "source": [
    "### 1. Rat motion model"
   ]
  },
  {
   "cell_type": "markdown",
   "id": "ff86e3d9",
   "metadata": {},
   "source": [
    "We define some parameters about the dimension of the environment in which the rat will move, the sampling frequency, and the length of a trajectory (aka trial)."
   ]
  },
  {
   "cell_type": "code",
   "execution_count": null,
   "id": "a2880d1e",
   "metadata": {},
   "outputs": [],
   "source": [
    "ENV_DIM = 0.635 # meters\n",
    "ENV_EPS = 0.005 # meters\n",
    "\n",
    "FPS = 10 # frame per second\n",
    "DT = 1. / FPS\n",
    "LENGTH = 60 # seconds"
   ]
  },
  {
   "cell_type": "code",
   "execution_count": null,
   "id": "d5613576",
   "metadata": {},
   "outputs": [],
   "source": [
    "from ratinabox.Environment import Environment\n",
    "\n",
    "# YOUR CODE HERE (1)\n",
    "env = None"
   ]
  },
  {
   "cell_type": "markdown",
   "id": "993155aa",
   "metadata": {},
   "source": [
    "The software implements an Ornstein-Uhlenbeck process &mdash; a continuous random walk with tendency to return to a central drift value.\n",
    "\n",
    "The speed of the rat is modelled with a Rayleigh distribution. The rotational speed as a Normal distribution. Additional parameters can be set like the time over which speed and rotational speed decorrelate under the random motion, and the thigmotaxis &mdash; the tendency to stay near walls."
   ]
  },
  {
   "cell_type": "code",
   "execution_count": null,
   "id": "db5c44c6",
   "metadata": {},
   "outputs": [],
   "source": [
    "from ratinabox.Agent import Agent\n",
    "from utils import calculate_thetas_smooth, calculate_rot_velocity\n",
    "\n",
    "agent_params = {\n",
    "    \"dt\": DT, # (s)\n",
    "    \"speed_mean\": 0.08, # 2D: Scale parameter and mode of the speed Rayleigh distribution (m*s^-1)\n",
    "    \"speed_coherence_time\": 1.35, # Timescale over which speed (1D or 2D) decoheres under random motion (s)\n",
    "    \"rotational_velocity_std\": 5/6*np.pi, # std of rotational velocity Normal distribution (rad s^−1)\n",
    "    \"rotational_velocity_coherence_time\": 0.075, # Timescale over which rotational velocities\n",
    "                                                 # decoheres under random motion (s)\n",
    "    \"thigmotaxis\": 0.4,\n",
    "}\n",
    "\n",
    "# YOUR CODE HERE (2)\n",
    "agent = None\n",
    "\n",
    "for i in range(int(LENGTH/DT)):\n",
    "    pass\n",
    "\n",
    "positions = None\n",
    "velocities = None\n",
    "\n",
    "head_directions = calculate_thetas_smooth(positions, FPS)\n",
    "rot_velocities = calculate_rot_velocity(head_directions)\n",
    "\n",
    "positions = [(p[0]+ENV_EPS, p[1]+ENV_EPS) for p in positions]"
   ]
  },
  {
   "cell_type": "markdown",
   "id": "508ea627",
   "metadata": {},
   "source": [
    "Let's look at the trajectory we just generated."
   ]
  },
  {
   "cell_type": "code",
   "execution_count": null,
   "id": "8683777b",
   "metadata": {},
   "outputs": [],
   "source": [
    "agent.animate_trajectory(speed_up=3)"
   ]
  },
  {
   "cell_type": "markdown",
   "id": "8a737d61",
   "metadata": {},
   "source": [
    "### 2. Environment design"
   ]
  },
  {
   "cell_type": "markdown",
   "id": "92b0db58",
   "metadata": {},
   "source": [
    "This part is done in Blender, see the `.blend` file in the `environment` folder for a pre-defined 3D environment."
   ]
  },
  {
   "cell_type": "code",
   "execution_count": null,
   "id": "ffc2d531",
   "metadata": {},
   "outputs": [],
   "source": []
  },
  {
   "cell_type": "markdown",
   "id": "56615647",
   "metadata": {},
   "source": [
    "### 3. Rat vision"
   ]
  },
  {
   "cell_type": "markdown",
   "id": "a165bb72",
   "metadata": {},
   "source": [
    "Here we combine the trajectory data and the virtual environment to simulate the rat vision [2]. Frames are rendered using the `ratvision` package."
   ]
  },
  {
   "cell_type": "code",
   "execution_count": null,
   "id": "f5a286fa",
   "metadata": {},
   "outputs": [],
   "source": [
    "from ratvision import Renderer\n",
    "\n",
    "Renderer.config_description()\n",
    "\n",
    "# YOUR CODE HERE (3)\n",
    "r = None"
   ]
  },
  {
   "cell_type": "markdown",
   "id": "40e9ba0f",
   "metadata": {},
   "source": [
    "Let's look at the visual scene we generated."
   ]
  },
  {
   "cell_type": "code",
   "execution_count": null,
   "id": "b733956c",
   "metadata": {},
   "outputs": [],
   "source": [
    "anim = r.get_video_animation(fps=10)\n",
    "\n",
    "from IPython import display\n",
    "display.display(display.HTML(anim.to_html5_video()))"
   ]
  },
  {
   "cell_type": "markdown",
   "id": "a23193a8",
   "metadata": {},
   "source": [
    "### **Summary: what have we achieved?**\n",
    "\n",
    "We simulated novel rodent trajectories using `RatInABox`.\n",
    "\n",
    "We designed a landmark-rich virtual arena in Blender to replicate experimental conditions.\n",
    "\n",
    "To emulate rat vision [2], we used `ratvision` to capture low-resolution black and white frames using a panoramic camera – with 240° horizontal and 120° vertical fields of view – positioned according to the agent's location and head direction."
   ]
  },
  {
   "cell_type": "markdown",
   "id": "0d0133e7",
   "metadata": {},
   "source": [
    "### References\n",
    "\n",
    "[1] T. M. George, M. Rastogi, W. de Cothi, C. Clopath, K. Stachenfeld, and C. Barry. Ratinabox, a toolkit for modelling locomotion and neuronal activity in continuous environments. eLife, 13, 2024.\n",
    "\n",
    "[2] A. Hughes. A schematic eye for the rat. Vision research, 19(5):569–588, 1979."
   ]
  },
  {
   "cell_type": "code",
   "execution_count": null,
   "id": "747a6008",
   "metadata": {},
   "outputs": [],
   "source": []
  }
 ],
 "metadata": {
  "kernelspec": {
   "display_name": "Python 3",
   "language": "python",
   "name": "python3"
  },
  "language_info": {
   "codemirror_mode": {
    "name": "ipython",
    "version": 3
   },
   "file_extension": ".py",
   "mimetype": "text/x-python",
   "name": "python",
   "nbconvert_exporter": "python",
   "pygments_lexer": "ipython3",
   "version": "3.9.6"
  }
 },
 "nbformat": 4,
 "nbformat_minor": 5
}
